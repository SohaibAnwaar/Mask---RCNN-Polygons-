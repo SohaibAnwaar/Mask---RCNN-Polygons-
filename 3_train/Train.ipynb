{
 "cells": [
  {
   "cell_type": "code",
   "execution_count": 1,
   "metadata": {},
   "outputs": [
    {
     "name": "stdout",
     "output_type": "stream",
     "text": [
      "Device mapping:\n",
      "/job:localhost/replica:0/task:0/device:GPU:0 -> device: 0, name: NVIDIA GeForce RTX 3070, pci bus id: 0000:01:00.0, compute capability: 8.6\n",
      "\n"
     ]
    }
   ],
   "source": [
    "'''\n",
    "\n",
    "Activating session for tensorflow 2 GPU \n",
    "Tensroflow 2 with nvidia 3070RTX\n",
    "\n",
    "''' \n",
    "import tensorflow as tf\n",
    "physical_devices = tf.config.list_physical_devices('GPU') \n",
    "for gpu_instance in physical_devices: \n",
    "    tf.config.experimental.set_memory_growth(gpu_instance, True)\n",
    "\n",
    "from tensorflow.compat.v1.keras.backend import set_session\n",
    "config = tf.compat.v1.ConfigProto()\n",
    "config.gpu_options.allow_growth = True  # dynamically grow the memory used on the GPU\n",
    "config.log_device_placement = True  # to log device placement (on which device the operation ran)\n",
    "sess = tf.compat.v1.Session(config=config)\n",
    "set_session(sess)\n",
    "\n",
    "'''\n",
    "\n",
    "Importing Packages\n",
    "\n",
    "'''\n",
    "\n",
    "from PIL import Image    \n",
    "import os, glob\n",
    "import sys\n",
    "import json\n",
    "import datetime\n",
    "import numpy as np\n",
    "import skimage.draw\n",
    "import shutil\n",
    "import tensorflow as tf\n",
    "\n",
    "# Root directory of the project\n",
    "ROOT_DIR = os.path.abspath(\"./\")\n",
    "\n",
    "# Import Mask RCNN\n",
    "sys.path.append(ROOT_DIR)  # To find local version of the library\n",
    "from mrcnn.config import Config\n",
    "from mrcnn import visualize as vis\n",
    "from mrcnn import model as modellib, utils\n",
    "import matplotlib.pyplot as plt\n",
    "\n",
    "\n",
    "'''\n",
    "\n",
    "Json Parsing class\n",
    "\n",
    "'''\n",
    "\n",
    "\n",
    "class GenericDataset(utils.Dataset):\n",
    "\n",
    "    def load_item(self, dataset_dir, subset):\n",
    "        \"\"\"Load a subset of dataset.\n",
    "        dataset_dir: Root directory of the dataset.\n",
    "        subset: Subset to load: train or val\n",
    "        \"\"\"\n",
    "\n",
    "\n",
    "        # Train or validation dataset?\n",
    "        assert subset in [\"train\", \"val\"]\n",
    "        dataset_dir = os.path.join(dataset_dir, subset)\n",
    "        annotations = json.load(open(os.path.join(dataset_dir, \"via_region_data.json\")))\n",
    "        annotations = list(annotations.values())  # don't need the dict keys\n",
    "\n",
    "\n",
    "\n",
    "        annotations = [a for a in annotations if a['regions']]\n",
    "        \n",
    "        # Add images\n",
    "        classes = []\n",
    "\n",
    "        all_files = dict()\n",
    "        for _ in os.listdir(dataset_dir):\n",
    "            all_files[\".\".join(_.split(\".\")[:-1])] = _ \n",
    "        for a in annotations:\n",
    "            \n",
    "            polygons=[]\n",
    "            objects=[]\n",
    "            for r in a['regions']:\n",
    "                polygons.append(r['shape_attributes'])\n",
    "                objects.append(r['region_attributes'])\n",
    "\n",
    "            class_ids = [int(n['class']) for n in objects]\n",
    "            image_path = dataset_dir + \"/\" + all_files[a['filename'] ]\n",
    "            image = Image.open(image_path)\n",
    "            width, height = image.size\n",
    "            \n",
    "            \n",
    "            self.add_image(\n",
    "                \"class\",\n",
    "                image_id=a['filename'],  # use file name as a unique image id\n",
    "                path=image_path,\n",
    "                width=width, height=height,\n",
    "                polygons=polygons,\n",
    "                class_ids=class_ids)\n",
    "            \n",
    "            \n",
    "            for r in a['regions']:\n",
    "                _class = r['region_attributes']['class']\n",
    "                if _class not in classes:\n",
    "                    classes += [_class]\n",
    "                    self.add_class(\"class\", _class,  str(_class))\n",
    "        \n",
    "\n",
    "    def load_mask(self, image_id):\n",
    "        \"\"\"Generate instance masks for an image.\n",
    "       Returns:\n",
    "        masks: A bool array of shape [height, width, instance count] with\n",
    "            one mask per instance.\n",
    "        class_ids: a 1D array of class IDs of the instance masks.\n",
    "        \"\"\"\n",
    "        # If not a dataset image, delegate to parent class.\n",
    "        image_info = self.image_info[image_id]\n",
    "        if image_info[\"source\"] != \"class\":\n",
    "            return super(self.__class__, self).load_mask(image_id)\n",
    "        class_ids = image_info['class_ids']\n",
    "        # Convert polygons to a bitmap mask of shape\n",
    "        # [height, width, instance_count]\n",
    "        info = self.image_info[image_id]\n",
    "        mask = np.zeros([info[\"height\"], info[\"width\"], len(info[\"polygons\"])],\n",
    "                        dtype=np.uint8)\n",
    "        for i, p in enumerate(info[\"polygons\"]):\n",
    "            # Get indexes of pixels inside the polygon and set them to 1\n",
    "            rr, cc = skimage.draw.polygon(p['all_points_y'], p['all_points_x'])\n",
    "            mask[rr, cc, i] = 1\n",
    "\n",
    "\n",
    "        class_ids = np.array(class_ids, dtype=np.int32)\n",
    "        return mask, class_ids\n",
    "\n"
   ]
  },
  {
   "cell_type": "markdown",
   "metadata": {},
   "source": [
    "## 1. Loading Dataset"
   ]
  },
  {
   "cell_type": "code",
   "execution_count": 2,
   "metadata": {},
   "outputs": [
    {
     "name": "stdout",
     "output_type": "stream",
     "text": [
      "Loading Training Dataset...\n",
      "5760\n",
      "Loading Validation Dataset...\n",
      "1620\n"
     ]
    }
   ],
   "source": [
    "\"\"\"Build Dataset.\"\"\"\n",
    "print(\"Loading Training Dataset...\")\n",
    "DATASET_DIR = \"/media/sohaib/additional_/DataScience/Upwork_orders/people_walk_in_zebra_crossing/Mask---RCNN-Polygons-/data/original_crosswalk/\"\n",
    "\n",
    "# Training dataset.\n",
    "dataset_train = GenericDataset()\n",
    "dataset_train.load_item(DATASET_DIR, \"train\")\n",
    "dataset_train.prepare()\n",
    "\n",
    "# Validation dataset\n",
    "print(\"Loading Validation Dataset...\")\n",
    "dataset_val = GenericDataset()\n",
    "dataset_val.load_item(DATASET_DIR, \"val\")\n",
    "dataset_val.prepare()"
   ]
  },
  {
   "cell_type": "markdown",
   "metadata": {},
   "source": [
    "\n",
    "## 3. Ploting samples"
   ]
  },
  {
   "cell_type": "code",
   "execution_count": 3,
   "metadata": {},
   "outputs": [
    {
     "data": {
      "image/png": "[encoded data removed]",
      "text/plain": [
       "<Figure size 1008x360 with 5 Axes>"
      ]
     },
     "metadata": {
      "needs_background": "light"
     },
     "output_type": "display_data"
    },
    {
     "data": {
      "image/png": "[encoded data removed]",
      "text/plain": [
       "<Figure size 1008x360 with 5 Axes>"
      ]
     },
     "metadata": {
      "needs_background": "light"
     },
     "output_type": "display_data"
    },
    {
     "data": {
      "image/png": "[encoded data removed]",
      "text/plain": [
       "<Figure size 1008x360 with 5 Axes>"
      ]
     },
     "metadata": {
      "needs_background": "light"
     },
     "output_type": "display_data"
    },
    {
     "data": {
      "image/png": "[encoded data removed]",
      "text/plain": [
       "<Figure size 1008x360 with 5 Axes>"
      ]
     },
     "metadata": {
      "needs_background": "light"
     },
     "output_type": "display_data"
    }
   ],
   "source": [
    "# Load and display random samples\n",
    "image_ids = np.random.choice(dataset_val.image_ids, 4)\n",
    "for image_id in image_ids:\n",
    "    image = dataset_train.load_image(image_id)\n",
    "    mask, class_ids = dataset_train.load_mask(image_id)\n",
    "    \n",
    "    vis.display_top_masks(image, mask, class_ids, dataset_train.class_names, limit=4)"
   ]
  },
  {
   "cell_type": "code",
   "execution_count": 4,
   "metadata": {},
   "outputs": [
    {
     "data": {
      "text/plain": [
       "['BG', '1', '2']"
      ]
     },
     "execution_count": 4,
     "metadata": {},
     "output_type": "execute_result"
    }
   ],
   "source": [
    "dataset_train.class_names"
   ]
  },
  {
   "cell_type": "markdown",
   "metadata": {},
   "source": [
    "## 3. Training Mrcnn"
   ]
  },
  {
   "cell_type": "code",
   "execution_count": 5,
   "metadata": {
    "scrolled": false
   },
   "outputs": [
    {
     "name": "stdout",
     "output_type": "stream",
     "text": [
      "WARNING:tensorflow:From /home/sohaib/anaconda3/envs/tensorflow2/lib/python3.7/site-packages/tensorflow/python/ops/array_ops.py:5049: calling gather (from tensorflow.python.ops.array_ops) with validate_indices is deprecated and will be removed in a future version.\n",
      "Instructions for updating:\n",
      "The `validate_indices` argument has no effect. Indices are always validated on CPU and never validated on GPU.\n"
     ]
    }
   ],
   "source": [
    "from mrcnn.config import Config\n",
    "\n",
    "# Your trained weights will be save here \n",
    "WEIGHTS_DIR = \"/media/sohaib/additional_/maskrcnn/weights/\"\n",
    "\n",
    "class GenericConfig(Config):\n",
    "    \"\"\"Configuration for training on the toy  dataset.\n",
    "    Derives from the base Config class and overrides some values.\n",
    "    \"\"\"\n",
    "\n",
    "    def __init__(self, classes, steps):\n",
    "        self.NUM_CLASSES = classes + 1\n",
    "        self.STEPS_PER_EPOCH = steps\n",
    "        super().__init__()\n",
    "\n",
    "\n",
    "    NAME = \"class\"\n",
    "\n",
    "    # We use a GPU with 12GB memory, which can fit two images.\n",
    "    # Adjust down if you use a smaller GPU.\n",
    "    IMAGES_PER_GPU = 1\n",
    "\n",
    "    DETECTION_MIN_CONFIDENCE = 0.1\n",
    "    IMAGE_MAX_DIM=448\n",
    "    IMAGE_MIN_DIM=384\n",
    "    TRAIN_ROIS_PER_IMAGE=20\n",
    "    DETECTION_NMS_THRESHOLD=0.1\n",
    "    DETECTION_MAX_INSTANCES=10\n",
    "\n",
    "\n",
    "# mention your class and steps here\n",
    "config = GenericConfig(2, 1000)\n",
    "\n",
    "\n",
    "model = modellib.MaskRCNN(mode=\"training\", config=config, model_dir=WEIGHTS_DIR)\n",
    "                \n",
    "\n"
   ]
  },
  {
   "cell_type": "markdown",
   "metadata": {},
   "source": [
    "### We will use Image-net weights for transfer learn"
   ]
  },
  {
   "cell_type": "code",
   "execution_count": 6,
   "metadata": {},
   "outputs": [
    {
     "name": "stdout",
     "output_type": "stream",
     "text": [
      "Re-starting from epoch 93\n"
     ]
    }
   ],
   "source": [
    "\n",
    "# Which weights to start with?\n",
    "init_with = \"last\"  # imagenet, coco, or last\n",
    "\n",
    "if init_with == \"imagenet\":\n",
    "    model.load_weights(model.get_imagenet_weights(), by_name=True)\n",
    "elif init_with == \"coco\":\n",
    "    # Load weights trained on MS COCO, but skip layers that\n",
    "    # are different due to the different number of classes\n",
    "    # See README for instructions to download the COCO weights\n",
    "    model.load_weights(COCO_MODEL_PATH, by_name=True,\n",
    "                       exclude=[\"mrcnn_class_logits\", \"mrcnn_bbox_fc\", \n",
    "                                \"mrcnn_bbox\", \"mrcnn_mask\"])\n",
    "elif init_with == \"last\":\n",
    "    # Load the last model you trained and continue training\n",
    "    model.load_weights(model.find_last(), by_name=True)"
   ]
  },
  {
   "cell_type": "code",
   "execution_count": null,
   "metadata": {},
   "outputs": [
    {
     "name": "stdout",
     "output_type": "stream",
     "text": [
      "\n",
      "Starting at epoch 93. LR=0.001\n",
      "\n",
      "Checkpoint Path: /media/sohaib/additional_/maskrcnn/weights/class20210901T1509/mask_rcnn_class_{epoch:04d}.h5\n",
      "Selecting layers to train\n",
      "conv1                  (Conv2D)\n",
      "bn_conv1               (BatchNorm)\n",
      "res2a_branch2a         (Conv2D)\n",
      "bn2a_branch2a          (BatchNorm)\n",
      "res2a_branch2b         (Conv2D)\n",
      "bn2a_branch2b          (BatchNorm)\n",
      "res2a_branch2c         (Conv2D)\n",
      "res2a_branch1          (Conv2D)\n",
      "bn2a_branch2c          (BatchNorm)\n",
      "bn2a_branch1           (BatchNorm)\n",
      "res2b_branch2a         (Conv2D)\n",
      "bn2b_branch2a          (BatchNorm)\n",
      "res2b_branch2b         (Conv2D)\n",
      "bn2b_branch2b          (BatchNorm)\n",
      "res2b_branch2c         (Conv2D)\n",
      "bn2b_branch2c          (BatchNorm)\n",
      "res2c_branch2a         (Conv2D)\n",
      "bn2c_branch2a          (BatchNorm)\n",
      "res2c_branch2b         (Conv2D)\n",
      "bn2c_branch2b          (BatchNorm)\n",
      "res2c_branch2c         (Conv2D)\n",
      "bn2c_branch2c          (BatchNorm)\n",
      "res3a_branch2a         (Conv2D)\n",
      "bn3a_branch2a          (BatchNorm)\n",
      "res3a_branch2b         (Conv2D)\n",
      "bn3a_branch2b          (BatchNorm)\n",
      "res3a_branch2c         (Conv2D)\n",
      "res3a_branch1          (Conv2D)\n",
      "bn3a_branch2c          (BatchNorm)\n",
      "bn3a_branch1           (BatchNorm)\n",
      "res3b_branch2a         (Conv2D)\n",
      "bn3b_branch2a          (BatchNorm)\n",
      "res3b_branch2b         (Conv2D)\n",
      "bn3b_branch2b          (BatchNorm)\n",
      "res3b_branch2c         (Conv2D)\n",
      "bn3b_branch2c          (BatchNorm)\n",
      "res3c_branch2a         (Conv2D)\n",
      "bn3c_branch2a          (BatchNorm)\n",
      "res3c_branch2b         (Conv2D)\n",
      "bn3c_branch2b          (BatchNorm)\n",
      "res3c_branch2c         (Conv2D)\n",
      "bn3c_branch2c          (BatchNorm)\n",
      "res3d_branch2a         (Conv2D)\n",
      "bn3d_branch2a          (BatchNorm)\n",
      "res3d_branch2b         (Conv2D)\n",
      "bn3d_branch2b          (BatchNorm)\n",
      "res3d_branch2c         (Conv2D)\n",
      "bn3d_branch2c          (BatchNorm)\n",
      "res4a_branch2a         (Conv2D)\n",
      "bn4a_branch2a          (BatchNorm)\n",
      "res4a_branch2b         (Conv2D)\n",
      "bn4a_branch2b          (BatchNorm)\n",
      "res4a_branch2c         (Conv2D)\n",
      "res4a_branch1          (Conv2D)\n",
      "bn4a_branch2c          (BatchNorm)\n",
      "bn4a_branch1           (BatchNorm)\n",
      "res4b_branch2a         (Conv2D)\n",
      "bn4b_branch2a          (BatchNorm)\n",
      "res4b_branch2b         (Conv2D)\n",
      "bn4b_branch2b          (BatchNorm)\n",
      "res4b_branch2c         (Conv2D)\n",
      "bn4b_branch2c          (BatchNorm)\n",
      "res4c_branch2a         (Conv2D)\n",
      "bn4c_branch2a          (BatchNorm)\n",
      "res4c_branch2b         (Conv2D)\n",
      "bn4c_branch2b          (BatchNorm)\n",
      "res4c_branch2c         (Conv2D)\n",
      "bn4c_branch2c          (BatchNorm)\n",
      "res4d_branch2a         (Conv2D)\n",
      "bn4d_branch2a          (BatchNorm)\n",
      "res4d_branch2b         (Conv2D)\n",
      "bn4d_branch2b          (BatchNorm)\n",
      "res4d_branch2c         (Conv2D)\n",
      "bn4d_branch2c          (BatchNorm)\n",
      "res4e_branch2a         (Conv2D)\n",
      "bn4e_branch2a          (BatchNorm)\n",
      "res4e_branch2b         (Conv2D)\n",
      "bn4e_branch2b          (BatchNorm)\n",
      "res4e_branch2c         (Conv2D)\n",
      "bn4e_branch2c          (BatchNorm)\n",
      "res4f_branch2a         (Conv2D)\n",
      "bn4f_branch2a          (BatchNorm)\n",
      "res4f_branch2b         (Conv2D)\n",
      "bn4f_branch2b          (BatchNorm)\n",
      "res4f_branch2c         (Conv2D)\n",
      "bn4f_branch2c          (BatchNorm)\n",
      "res4g_branch2a         (Conv2D)\n",
      "bn4g_branch2a          (BatchNorm)\n",
      "res4g_branch2b         (Conv2D)\n",
      "bn4g_branch2b          (BatchNorm)\n",
      "res4g_branch2c         (Conv2D)\n",
      "bn4g_branch2c          (BatchNorm)\n",
      "res4h_branch2a         (Conv2D)\n",
      "bn4h_branch2a          (BatchNorm)\n",
      "res4h_branch2b         (Conv2D)\n",
      "bn4h_branch2b          (BatchNorm)\n",
      "res4h_branch2c         (Conv2D)\n",
      "bn4h_branch2c          (BatchNorm)\n",
      "res4i_branch2a         (Conv2D)\n",
      "bn4i_branch2a          (BatchNorm)\n",
      "res4i_branch2b         (Conv2D)\n",
      "bn4i_branch2b          (BatchNorm)\n",
      "res4i_branch2c         (Conv2D)\n",
      "bn4i_branch2c          (BatchNorm)\n",
      "res4j_branch2a         (Conv2D)\n",
      "bn4j_branch2a          (BatchNorm)\n",
      "res4j_branch2b         (Conv2D)\n",
      "bn4j_branch2b          (BatchNorm)\n",
      "res4j_branch2c         (Conv2D)\n",
      "bn4j_branch2c          (BatchNorm)\n",
      "res4k_branch2a         (Conv2D)\n",
      "bn4k_branch2a          (BatchNorm)\n",
      "res4k_branch2b         (Conv2D)\n",
      "bn4k_branch2b          (BatchNorm)\n",
      "res4k_branch2c         (Conv2D)\n",
      "bn4k_branch2c          (BatchNorm)\n",
      "res4l_branch2a         (Conv2D)\n",
      "bn4l_branch2a          (BatchNorm)\n",
      "res4l_branch2b         (Conv2D)\n",
      "bn4l_branch2b          (BatchNorm)\n",
      "res4l_branch2c         (Conv2D)\n",
      "bn4l_branch2c          (BatchNorm)\n",
      "res4m_branch2a         (Conv2D)\n",
      "bn4m_branch2a          (BatchNorm)\n",
      "res4m_branch2b         (Conv2D)\n",
      "bn4m_branch2b          (BatchNorm)\n",
      "res4m_branch2c         (Conv2D)\n",
      "bn4m_branch2c          (BatchNorm)\n",
      "res4n_branch2a         (Conv2D)\n",
      "bn4n_branch2a          (BatchNorm)\n",
      "res4n_branch2b         (Conv2D)\n",
      "bn4n_branch2b          (BatchNorm)\n",
      "res4n_branch2c         (Conv2D)\n",
      "bn4n_branch2c          (BatchNorm)\n",
      "res4o_branch2a         (Conv2D)\n",
      "bn4o_branch2a          (BatchNorm)\n",
      "res4o_branch2b         (Conv2D)\n",
      "bn4o_branch2b          (BatchNorm)\n",
      "res4o_branch2c         (Conv2D)\n",
      "bn4o_branch2c          (BatchNorm)\n",
      "res4p_branch2a         (Conv2D)\n",
      "bn4p_branch2a          (BatchNorm)\n",
      "res4p_branch2b         (Conv2D)\n",
      "bn4p_branch2b          (BatchNorm)\n",
      "res4p_branch2c         (Conv2D)\n",
      "bn4p_branch2c          (BatchNorm)\n",
      "res4q_branch2a         (Conv2D)\n",
      "bn4q_branch2a          (BatchNorm)\n",
      "res4q_branch2b         (Conv2D)\n",
      "bn4q_branch2b          (BatchNorm)\n",
      "res4q_branch2c         (Conv2D)\n",
      "bn4q_branch2c          (BatchNorm)\n",
      "res4r_branch2a         (Conv2D)\n",
      "bn4r_branch2a          (BatchNorm)\n",
      "res4r_branch2b         (Conv2D)\n",
      "bn4r_branch2b          (BatchNorm)\n",
      "res4r_branch2c         (Conv2D)\n",
      "bn4r_branch2c          (BatchNorm)\n",
      "res4s_branch2a         (Conv2D)\n",
      "bn4s_branch2a          (BatchNorm)\n",
      "res4s_branch2b         (Conv2D)\n",
      "bn4s_branch2b          (BatchNorm)\n",
      "res4s_branch2c         (Conv2D)\n",
      "bn4s_branch2c          (BatchNorm)\n",
      "res4t_branch2a         (Conv2D)\n",
      "bn4t_branch2a          (BatchNorm)\n",
      "res4t_branch2b         (Conv2D)\n",
      "bn4t_branch2b          (BatchNorm)\n",
      "res4t_branch2c         (Conv2D)\n",
      "bn4t_branch2c          (BatchNorm)\n",
      "res4u_branch2a         (Conv2D)\n",
      "bn4u_branch2a          (BatchNorm)\n",
      "res4u_branch2b         (Conv2D)\n",
      "bn4u_branch2b          (BatchNorm)\n",
      "res4u_branch2c         (Conv2D)\n",
      "bn4u_branch2c          (BatchNorm)\n",
      "res4v_branch2a         (Conv2D)\n",
      "bn4v_branch2a          (BatchNorm)\n",
      "res4v_branch2b         (Conv2D)\n",
      "bn4v_branch2b          (BatchNorm)\n",
      "res4v_branch2c         (Conv2D)\n",
      "bn4v_branch2c          (BatchNorm)\n",
      "res4w_branch2a         (Conv2D)\n",
      "bn4w_branch2a          (BatchNorm)\n",
      "res4w_branch2b         (Conv2D)\n",
      "bn4w_branch2b          (BatchNorm)\n",
      "res4w_branch2c         (Conv2D)\n",
      "bn4w_branch2c          (BatchNorm)\n",
      "res5a_branch2a         (Conv2D)\n",
      "bn5a_branch2a          (BatchNorm)\n",
      "res5a_branch2b         (Conv2D)\n",
      "bn5a_branch2b          (BatchNorm)\n",
      "res5a_branch2c         (Conv2D)\n",
      "res5a_branch1          (Conv2D)\n",
      "bn5a_branch2c          (BatchNorm)\n",
      "bn5a_branch1           (BatchNorm)\n",
      "res5b_branch2a         (Conv2D)\n",
      "bn5b_branch2a          (BatchNorm)\n",
      "res5b_branch2b         (Conv2D)\n",
      "bn5b_branch2b          (BatchNorm)\n",
      "res5b_branch2c         (Conv2D)\n",
      "bn5b_branch2c          (BatchNorm)\n",
      "res5c_branch2a         (Conv2D)\n",
      "bn5c_branch2a          (BatchNorm)\n",
      "res5c_branch2b         (Conv2D)\n",
      "bn5c_branch2b          (BatchNorm)\n",
      "res5c_branch2c         (Conv2D)\n",
      "bn5c_branch2c          (BatchNorm)\n",
      "fpn_c5p5               (Conv2D)\n",
      "fpn_c4p4               (Conv2D)\n",
      "fpn_c3p3               (Conv2D)\n",
      "fpn_c2p2               (Conv2D)\n",
      "fpn_p5                 (Conv2D)\n",
      "fpn_p2                 (Conv2D)\n",
      "fpn_p3                 (Conv2D)\n",
      "fpn_p4                 (Conv2D)\n",
      "rpn_model              (Functional)\n",
      "anchors                (ConstLayer)\n",
      "mrcnn_mask_conv1       (TimeDistributed)\n",
      "mrcnn_mask_bn1         (TimeDistributed)\n",
      "mrcnn_mask_conv2       (TimeDistributed)\n",
      "mrcnn_mask_bn2         (TimeDistributed)\n",
      "mrcnn_class_conv1      (TimeDistributed)\n",
      "mrcnn_class_bn1        (TimeDistributed)\n",
      "mrcnn_mask_conv3       (TimeDistributed)\n",
      "mrcnn_mask_bn3         (TimeDistributed)\n",
      "mrcnn_class_conv2      (TimeDistributed)\n",
      "mrcnn_class_bn2        (TimeDistributed)\n",
      "mrcnn_mask_conv4       (TimeDistributed)\n",
      "mrcnn_mask_bn4         (TimeDistributed)\n",
      "mrcnn_bbox_fc          (TimeDistributed)\n",
      "mrcnn_mask_deconv      (TimeDistributed)\n",
      "mrcnn_class_logits     (TimeDistributed)\n",
      "mrcnn_mask             (TimeDistributed)\n"
     ]
    },
    {
     "name": "stderr",
     "output_type": "stream",
     "text": [
      "/home/sohaib/anaconda3/envs/tensorflow2/lib/python3.7/site-packages/tensorflow/python/keras/optimizer_v2/optimizer_v2.py:375: UserWarning: The `lr` argument is deprecated, use `learning_rate` instead.\n",
      "  \"The `lr` argument is deprecated, use `learning_rate` instead.\")\n"
     ]
    },
    {
     "name": "stdout",
     "output_type": "stream",
     "text": [
      "Epoch 94/1000\n"
     ]
    },
    {
     "name": "stderr",
     "output_type": "stream",
     "text": [
      "/home/sohaib/anaconda3/envs/tensorflow2/lib/python3.7/site-packages/tensorflow/python/framework/indexed_slices.py:449: UserWarning: Converting sparse IndexedSlices(IndexedSlices(indices=Tensor(\"training/SGD/gradients/gradients/roi_align_classifier/concat_grad/sub:0\", shape=(None,), dtype=int32), values=Tensor(\"training/SGD/gradients/gradients/roi_align_classifier/concat_grad/GatherV2_2:0\", shape=(None, 7, 7, 256), dtype=float32), dense_shape=Tensor(\"training/SGD/gradients/gradients/roi_align_classifier/concat_grad/Shape:0\", shape=(4,), dtype=int32))) to a dense Tensor of unknown shape. This may consume a large amount of memory.\n",
      "  \"shape. This may consume a large amount of memory.\" % value)\n",
      "/home/sohaib/anaconda3/envs/tensorflow2/lib/python3.7/site-packages/tensorflow/python/framework/indexed_slices.py:449: UserWarning: Converting sparse IndexedSlices(IndexedSlices(indices=Tensor(\"training/SGD/gradients/gradients/roi_align_classifier/concat_grad/sub_1:0\", shape=(None,), dtype=int32), values=Tensor(\"training/SGD/gradients/gradients/roi_align_classifier/concat_grad/GatherV2_5:0\", shape=(None, 7, 7, 256), dtype=float32), dense_shape=Tensor(\"training/SGD/gradients/gradients/roi_align_classifier/concat_grad/Shape_1:0\", shape=(4,), dtype=int32))) to a dense Tensor of unknown shape. This may consume a large amount of memory.\n",
      "  \"shape. This may consume a large amount of memory.\" % value)\n",
      "/home/sohaib/anaconda3/envs/tensorflow2/lib/python3.7/site-packages/tensorflow/python/framework/indexed_slices.py:449: UserWarning: Converting sparse IndexedSlices(IndexedSlices(indices=Tensor(\"training/SGD/gradients/gradients/roi_align_classifier/concat_grad/sub_2:0\", shape=(None,), dtype=int32), values=Tensor(\"training/SGD/gradients/gradients/roi_align_classifier/concat_grad/GatherV2_8:0\", shape=(None, 7, 7, 256), dtype=float32), dense_shape=Tensor(\"training/SGD/gradients/gradients/roi_align_classifier/concat_grad/Shape_2:0\", shape=(4,), dtype=int32))) to a dense Tensor of unknown shape. This may consume a large amount of memory.\n",
      "  \"shape. This may consume a large amount of memory.\" % value)\n",
      "/home/sohaib/anaconda3/envs/tensorflow2/lib/python3.7/site-packages/tensorflow/python/framework/indexed_slices.py:449: UserWarning: Converting sparse IndexedSlices(IndexedSlices(indices=Tensor(\"training/SGD/gradients/gradients/roi_align_classifier/concat_grad/sub_3:0\", shape=(None,), dtype=int32), values=Tensor(\"training/SGD/gradients/gradients/roi_align_classifier/concat_grad/GatherV2_11:0\", shape=(None, 7, 7, 256), dtype=float32), dense_shape=Tensor(\"training/SGD/gradients/gradients/roi_align_classifier/concat_grad/Shape_3:0\", shape=(4,), dtype=int32))) to a dense Tensor of unknown shape. This may consume a large amount of memory.\n",
      "  \"shape. This may consume a large amount of memory.\" % value)\n",
      "/home/sohaib/anaconda3/envs/tensorflow2/lib/python3.7/site-packages/tensorflow/python/framework/indexed_slices.py:449: UserWarning: Converting sparse IndexedSlices(IndexedSlices(indices=Tensor(\"training/SGD/gradients/gradients/roi_align_mask/concat_grad/sub:0\", shape=(None,), dtype=int32), values=Tensor(\"training/SGD/gradients/gradients/roi_align_mask/concat_grad/GatherV2_2:0\", shape=(None, 14, 14, 256), dtype=float32), dense_shape=Tensor(\"training/SGD/gradients/gradients/roi_align_mask/concat_grad/Shape:0\", shape=(4,), dtype=int32))) to a dense Tensor of unknown shape. This may consume a large amount of memory.\n",
      "  \"shape. This may consume a large amount of memory.\" % value)\n",
      "/home/sohaib/anaconda3/envs/tensorflow2/lib/python3.7/site-packages/tensorflow/python/framework/indexed_slices.py:449: UserWarning: Converting sparse IndexedSlices(IndexedSlices(indices=Tensor(\"training/SGD/gradients/gradients/roi_align_mask/concat_grad/sub_1:0\", shape=(None,), dtype=int32), values=Tensor(\"training/SGD/gradients/gradients/roi_align_mask/concat_grad/GatherV2_5:0\", shape=(None, 14, 14, 256), dtype=float32), dense_shape=Tensor(\"training/SGD/gradients/gradients/roi_align_mask/concat_grad/Shape_1:0\", shape=(4,), dtype=int32))) to a dense Tensor of unknown shape. This may consume a large amount of memory.\n",
      "  \"shape. This may consume a large amount of memory.\" % value)\n",
      "/home/sohaib/anaconda3/envs/tensorflow2/lib/python3.7/site-packages/tensorflow/python/framework/indexed_slices.py:449: UserWarning: Converting sparse IndexedSlices(IndexedSlices(indices=Tensor(\"training/SGD/gradients/gradients/roi_align_mask/concat_grad/sub_2:0\", shape=(None,), dtype=int32), values=Tensor(\"training/SGD/gradients/gradients/roi_align_mask/concat_grad/GatherV2_8:0\", shape=(None, 14, 14, 256), dtype=float32), dense_shape=Tensor(\"training/SGD/gradients/gradients/roi_align_mask/concat_grad/Shape_2:0\", shape=(4,), dtype=int32))) to a dense Tensor of unknown shape. This may consume a large amount of memory.\n",
      "  \"shape. This may consume a large amount of memory.\" % value)\n",
      "/home/sohaib/anaconda3/envs/tensorflow2/lib/python3.7/site-packages/tensorflow/python/framework/indexed_slices.py:449: UserWarning: Converting sparse IndexedSlices(IndexedSlices(indices=Tensor(\"training/SGD/gradients/gradients/roi_align_mask/concat_grad/sub_3:0\", shape=(None,), dtype=int32), values=Tensor(\"training/SGD/gradients/gradients/roi_align_mask/concat_grad/GatherV2_11:0\", shape=(None, 14, 14, 256), dtype=float32), dense_shape=Tensor(\"training/SGD/gradients/gradients/roi_align_mask/concat_grad/Shape_3:0\", shape=(4,), dtype=int32))) to a dense Tensor of unknown shape. This may consume a large amount of memory.\n",
      "  \"shape. This may consume a large amount of memory.\" % value)\n",
      "/home/sohaib/anaconda3/envs/tensorflow2/lib/python3.7/site-packages/tensorflow/python/framework/indexed_slices.py:449: UserWarning: Converting sparse IndexedSlices(IndexedSlices(indices=Tensor(\"training/SGD/gradients/gradients/ROI/GatherV2_1_grad/Reshape_1:0\", shape=(6000,), dtype=int32), values=Tensor(\"training/SGD/gradients/gradients/ROI/GatherV2_1_grad/Reshape:0\", shape=(6000, 4), dtype=float32), dense_shape=Tensor(\"training/SGD/gradients/gradients/ROI/GatherV2_1_grad/Cast:0\", shape=(2,), dtype=int32))) to a dense Tensor of unknown shape. This may consume a large amount of memory.\n",
      "  \"shape. This may consume a large amount of memory.\" % value)\n"
     ]
    },
    {
     "name": "stdout",
     "output_type": "stream",
     "text": [
      "1000/1000 [==============================] - ETA: 0s - batch: 499.5000 - size: 1.0000 - loss: 0.4368 - rpn_class_loss: 0.0229 - rpn_bbox_loss: 0.2100 - mrcnn_class_loss: 0.0655 - mrcnn_bbox_loss: 0.0687 - mrcnn_mask_loss: 0.0697"
     ]
    },
    {
     "name": "stderr",
     "output_type": "stream",
     "text": [
      "/home/sohaib/anaconda3/envs/tensorflow2/lib/python3.7/site-packages/tensorflow/python/keras/engine/training.py:2426: UserWarning: `Model.state_updates` will be removed in a future version. This property should not be used in TensorFlow 2.0, as `updates` are applied automatically.\n",
      "  warnings.warn('`Model.state_updates` will be removed in a future version. '\n"
     ]
    },
    {
     "name": "stdout",
     "output_type": "stream",
     "text": [
      "1000/1000 [==============================] - 165s 150ms/step - batch: 499.5000 - size: 1.0000 - loss: 0.4368 - rpn_class_loss: 0.0229 - rpn_bbox_loss: 0.2100 - mrcnn_class_loss: 0.0655 - mrcnn_bbox_loss: 0.0687 - mrcnn_mask_loss: 0.0697 - val_loss: 0.9747 - val_rpn_class_loss: 0.0896 - val_rpn_bbox_loss: 0.5386 - val_mrcnn_class_loss: 0.0362 - val_mrcnn_bbox_loss: 0.1707 - val_mrcnn_mask_loss: 0.1396\n",
      "Epoch 95/1000\n",
      "1000/1000 [==============================] - 151s 151ms/step - batch: 499.5000 - size: 1.0000 - loss: 0.5170 - rpn_class_loss: 0.0316 - rpn_bbox_loss: 0.2822 - mrcnn_class_loss: 0.0472 - mrcnn_bbox_loss: 0.0760 - mrcnn_mask_loss: 0.0800 - val_loss: 1.1994 - val_rpn_class_loss: 0.2166 - val_rpn_bbox_loss: 0.7330 - val_mrcnn_class_loss: 0.0805 - val_mrcnn_bbox_loss: 0.0712 - val_mrcnn_mask_loss: 0.0982\n",
      "Epoch 96/1000\n",
      "1000/1000 [==============================] - 158s 158ms/step - batch: 499.5000 - size: 1.0000 - loss: 0.3773 - rpn_class_loss: 0.0185 - rpn_bbox_loss: 0.1920 - mrcnn_class_loss: 0.0374 - mrcnn_bbox_loss: 0.0609 - mrcnn_mask_loss: 0.0685 - val_loss: 0.4954 - val_rpn_class_loss: 0.0165 - val_rpn_bbox_loss: 0.3178 - val_mrcnn_class_loss: 0.0187 - val_mrcnn_bbox_loss: 0.0637 - val_mrcnn_mask_loss: 0.0786\n",
      "Epoch 97/1000\n",
      "1000/1000 [==============================] - 160s 160ms/step - batch: 499.5000 - size: 1.0000 - loss: 0.2613 - rpn_class_loss: 0.0118 - rpn_bbox_loss: 0.1409 - mrcnn_class_loss: 0.0273 - mrcnn_bbox_loss: 0.0324 - mrcnn_mask_loss: 0.0489 - val_loss: 0.5496 - val_rpn_class_loss: 0.0425 - val_rpn_bbox_loss: 0.2750 - val_mrcnn_class_loss: 0.0275 - val_mrcnn_bbox_loss: 0.1172 - val_mrcnn_mask_loss: 0.0875\n",
      "Epoch 98/1000\n",
      "1000/1000 [==============================] - 157s 157ms/step - batch: 499.5000 - size: 1.0000 - loss: 0.2381 - rpn_class_loss: 0.0109 - rpn_bbox_loss: 0.1174 - mrcnn_class_loss: 0.0279 - mrcnn_bbox_loss: 0.0311 - mrcnn_mask_loss: 0.0509 - val_loss: 0.3846 - val_rpn_class_loss: 0.0178 - val_rpn_bbox_loss: 0.2388 - val_mrcnn_class_loss: 0.0079 - val_mrcnn_bbox_loss: 0.0469 - val_mrcnn_mask_loss: 0.0732\n",
      "Epoch 99/1000\n",
      "1000/1000 [==============================] - 161s 161ms/step - batch: 499.5000 - size: 1.0000 - loss: 0.2657 - rpn_class_loss: 0.0141 - rpn_bbox_loss: 0.1374 - mrcnn_class_loss: 0.0296 - mrcnn_bbox_loss: 0.0331 - mrcnn_mask_loss: 0.0517 - val_loss: 0.6121 - val_rpn_class_loss: 0.0559 - val_rpn_bbox_loss: 0.3692 - val_mrcnn_class_loss: 0.0060 - val_mrcnn_bbox_loss: 0.0370 - val_mrcnn_mask_loss: 0.1441\n",
      "Epoch 100/1000\n",
      "1000/1000 [==============================] - 160s 160ms/step - batch: 499.5000 - size: 1.0000 - loss: 0.2113 - rpn_class_loss: 0.0090 - rpn_bbox_loss: 0.1060 - mrcnn_class_loss: 0.0221 - mrcnn_bbox_loss: 0.0263 - mrcnn_mask_loss: 0.0479 - val_loss: 0.6297 - val_rpn_class_loss: 0.0326 - val_rpn_bbox_loss: 0.2673 - val_mrcnn_class_loss: 0.0360 - val_mrcnn_bbox_loss: 0.1863 - val_mrcnn_mask_loss: 0.1075\n",
      "Epoch 101/1000\n",
      "1000/1000 [==============================] - 162s 162ms/step - batch: 499.5000 - size: 1.0000 - loss: 0.1734 - rpn_class_loss: 0.0085 - rpn_bbox_loss: 0.0761 - mrcnn_class_loss: 0.0197 - mrcnn_bbox_loss: 0.0235 - mrcnn_mask_loss: 0.0457 - val_loss: 0.6224 - val_rpn_class_loss: 0.1064 - val_rpn_bbox_loss: 0.4250 - val_mrcnn_class_loss: 0.0143 - val_mrcnn_bbox_loss: 0.0222 - val_mrcnn_mask_loss: 0.0544\n",
      "Epoch 102/1000\n",
      "1000/1000 [==============================] - 157s 157ms/step - batch: 499.5000 - size: 1.0000 - loss: 0.1995 - rpn_class_loss: 0.0078 - rpn_bbox_loss: 0.1096 - mrcnn_class_loss: 0.0178 - mrcnn_bbox_loss: 0.0235 - mrcnn_mask_loss: 0.0407 - val_loss: 0.5240 - val_rpn_class_loss: 0.0603 - val_rpn_bbox_loss: 0.3490 - val_mrcnn_class_loss: 0.0259 - val_mrcnn_bbox_loss: 0.0377 - val_mrcnn_mask_loss: 0.0511\n",
      "Epoch 103/1000\n",
      "1000/1000 [==============================] - 127s 127ms/step - batch: 499.5000 - size: 1.0000 - loss: 0.1816 - rpn_class_loss: 0.0066 - rpn_bbox_loss: 0.0916 - mrcnn_class_loss: 0.0207 - mrcnn_bbox_loss: 0.0213 - mrcnn_mask_loss: 0.0413 - val_loss: 0.8890 - val_rpn_class_loss: 0.0384 - val_rpn_bbox_loss: 0.3549 - val_mrcnn_class_loss: 0.0157 - val_mrcnn_bbox_loss: 0.3070 - val_mrcnn_mask_loss: 0.1730\n",
      "Epoch 104/1000\n",
      "1000/1000 [==============================] - 127s 127ms/step - batch: 499.5000 - size: 1.0000 - loss: 0.1854 - rpn_class_loss: 0.0073 - rpn_bbox_loss: 0.0997 - mrcnn_class_loss: 0.0196 - mrcnn_bbox_loss: 0.0184 - mrcnn_mask_loss: 0.0404 - val_loss: 0.4753 - val_rpn_class_loss: 0.0560 - val_rpn_bbox_loss: 0.3253 - val_mrcnn_class_loss: 0.0161 - val_mrcnn_bbox_loss: 0.0373 - val_mrcnn_mask_loss: 0.0405\n",
      "Epoch 105/1000\n",
      "1000/1000 [==============================] - 135s 135ms/step - batch: 499.5000 - size: 1.0000 - loss: 0.2151 - rpn_class_loss: 0.0107 - rpn_bbox_loss: 0.1203 - mrcnn_class_loss: 0.0196 - mrcnn_bbox_loss: 0.0225 - mrcnn_mask_loss: 0.0421 - val_loss: 0.6852 - val_rpn_class_loss: 0.0606 - val_rpn_bbox_loss: 0.2871 - val_mrcnn_class_loss: 0.0183 - val_mrcnn_bbox_loss: 0.1358 - val_mrcnn_mask_loss: 0.1834\n",
      "Epoch 106/1000\n",
      "1000/1000 [==============================] - 127s 127ms/step - batch: 499.5000 - size: 1.0000 - loss: 0.1831 - rpn_class_loss: 0.0079 - rpn_bbox_loss: 0.0946 - mrcnn_class_loss: 0.0175 - mrcnn_bbox_loss: 0.0211 - mrcnn_mask_loss: 0.0420 - val_loss: 0.6511 - val_rpn_class_loss: 0.0735 - val_rpn_bbox_loss: 0.4054 - val_mrcnn_class_loss: 0.0154 - val_mrcnn_bbox_loss: 0.0709 - val_mrcnn_mask_loss: 0.0859\n",
      "Epoch 107/1000\n",
      "1000/1000 [==============================] - 127s 127ms/step - batch: 499.5000 - size: 1.0000 - loss: 0.1479 - rpn_class_loss: 0.0071 - rpn_bbox_loss: 0.0708 - mrcnn_class_loss: 0.0141 - mrcnn_bbox_loss: 0.0196 - mrcnn_mask_loss: 0.0363 - val_loss: 0.3838 - val_rpn_class_loss: 0.0612 - val_rpn_bbox_loss: 0.2938 - val_mrcnn_class_loss: 0.0054 - val_mrcnn_bbox_loss: 0.0066 - val_mrcnn_mask_loss: 0.0168\n",
      "Epoch 108/1000\n",
      "1000/1000 [==============================] - 127s 127ms/step - batch: 499.5000 - size: 1.0000 - loss: 0.1301 - rpn_class_loss: 0.0055 - rpn_bbox_loss: 0.0636 - mrcnn_class_loss: 0.0147 - mrcnn_bbox_loss: 0.0137 - mrcnn_mask_loss: 0.0326 - val_loss: 0.5935 - val_rpn_class_loss: 0.0824 - val_rpn_bbox_loss: 0.2238 - val_mrcnn_class_loss: 0.0189 - val_mrcnn_bbox_loss: 0.1305 - val_mrcnn_mask_loss: 0.1379\n",
      "Epoch 109/1000\n",
      "1000/1000 [==============================] - 127s 127ms/step - batch: 499.5000 - size: 1.0000 - loss: 0.1402 - rpn_class_loss: 0.0051 - rpn_bbox_loss: 0.0675 - mrcnn_class_loss: 0.0172 - mrcnn_bbox_loss: 0.0137 - mrcnn_mask_loss: 0.0366 - val_loss: 0.7271 - val_rpn_class_loss: 0.0678 - val_rpn_bbox_loss: 0.3045 - val_mrcnn_class_loss: 0.0074 - val_mrcnn_bbox_loss: 0.1345 - val_mrcnn_mask_loss: 0.2128\n",
      "Epoch 110/1000\n",
      "1000/1000 [==============================] - 127s 127ms/step - batch: 499.5000 - size: 1.0000 - loss: 0.1334 - rpn_class_loss: 0.0051 - rpn_bbox_loss: 0.0722 - mrcnn_class_loss: 0.0134 - mrcnn_bbox_loss: 0.0098 - mrcnn_mask_loss: 0.0328 - val_loss: 0.5069 - val_rpn_class_loss: 0.0503 - val_rpn_bbox_loss: 0.2940 - val_mrcnn_class_loss: 0.0122 - val_mrcnn_bbox_loss: 0.0507 - val_mrcnn_mask_loss: 0.0997\n",
      "Epoch 111/1000\n",
      "1000/1000 [==============================] - 131s 131ms/step - batch: 499.5000 - size: 1.0000 - loss: 0.1161 - rpn_class_loss: 0.0044 - rpn_bbox_loss: 0.0510 - mrcnn_class_loss: 0.0157 - mrcnn_bbox_loss: 0.0121 - mrcnn_mask_loss: 0.0328 - val_loss: 0.6513 - val_rpn_class_loss: 0.0596 - val_rpn_bbox_loss: 0.2843 - val_mrcnn_class_loss: 0.0132 - val_mrcnn_bbox_loss: 0.1270 - val_mrcnn_mask_loss: 0.1671\n",
      "Epoch 112/1000\n",
      "1000/1000 [==============================] - 128s 128ms/step - batch: 499.5000 - size: 1.0000 - loss: 0.1189 - rpn_class_loss: 0.0043 - rpn_bbox_loss: 0.0552 - mrcnn_class_loss: 0.0160 - mrcnn_bbox_loss: 0.0108 - mrcnn_mask_loss: 0.0325 - val_loss: 0.5958 - val_rpn_class_loss: 0.1534 - val_rpn_bbox_loss: 0.4098 - val_mrcnn_class_loss: 0.0086 - val_mrcnn_bbox_loss: 0.0053 - val_mrcnn_mask_loss: 0.0188\n",
      "Epoch 113/1000\n"
     ]
    },
    {
     "name": "stdout",
     "output_type": "stream",
     "text": [
      "1000/1000 [==============================] - 127s 127ms/step - batch: 499.5000 - size: 1.0000 - loss: 0.1021 - rpn_class_loss: 0.0049 - rpn_bbox_loss: 0.0454 - mrcnn_class_loss: 0.0108 - mrcnn_bbox_loss: 0.0113 - mrcnn_mask_loss: 0.0297 - val_loss: 0.5990 - val_rpn_class_loss: 0.1239 - val_rpn_bbox_loss: 0.3523 - val_mrcnn_class_loss: 0.0104 - val_mrcnn_bbox_loss: 0.0278 - val_mrcnn_mask_loss: 0.0846\n",
      "Epoch 114/1000\n",
      "1000/1000 [==============================] - 127s 127ms/step - batch: 499.5000 - size: 1.0000 - loss: 0.0886 - rpn_class_loss: 0.0034 - rpn_bbox_loss: 0.0387 - mrcnn_class_loss: 0.0122 - mrcnn_bbox_loss: 0.0075 - mrcnn_mask_loss: 0.0267 - val_loss: 0.3364 - val_rpn_class_loss: 0.0660 - val_rpn_bbox_loss: 0.2460 - val_mrcnn_class_loss: 0.0016 - val_mrcnn_bbox_loss: 0.0047 - val_mrcnn_mask_loss: 0.0182\n",
      "Epoch 115/1000\n",
      "1000/1000 [==============================] - 127s 127ms/step - batch: 499.5000 - size: 1.0000 - loss: 0.0990 - rpn_class_loss: 0.0034 - rpn_bbox_loss: 0.0454 - mrcnn_class_loss: 0.0122 - mrcnn_bbox_loss: 0.0086 - mrcnn_mask_loss: 0.0293 - val_loss: 0.5824 - val_rpn_class_loss: 0.0515 - val_rpn_bbox_loss: 0.2797 - val_mrcnn_class_loss: 0.0031 - val_mrcnn_bbox_loss: 0.1283 - val_mrcnn_mask_loss: 0.1198\n",
      "Epoch 116/1000\n",
      "1000/1000 [==============================] - 127s 127ms/step - batch: 499.5000 - size: 1.0000 - loss: 0.0940 - rpn_class_loss: 0.0032 - rpn_bbox_loss: 0.0442 - mrcnn_class_loss: 0.0119 - mrcnn_bbox_loss: 0.0076 - mrcnn_mask_loss: 0.0271 - val_loss: 0.4221 - val_rpn_class_loss: 0.0556 - val_rpn_bbox_loss: 0.2621 - val_mrcnn_class_loss: 0.0207 - val_mrcnn_bbox_loss: 0.0404 - val_mrcnn_mask_loss: 0.0433\n",
      "Epoch 117/1000\n",
      "1000/1000 [==============================] - 130s 130ms/step - batch: 499.5000 - size: 1.0000 - loss: 0.0888 - rpn_class_loss: 0.0025 - rpn_bbox_loss: 0.0385 - mrcnn_class_loss: 0.0118 - mrcnn_bbox_loss: 0.0085 - mrcnn_mask_loss: 0.0275 - val_loss: 0.4481 - val_rpn_class_loss: 0.0393 - val_rpn_bbox_loss: 0.2445 - val_mrcnn_class_loss: 0.0126 - val_mrcnn_bbox_loss: 0.0762 - val_mrcnn_mask_loss: 0.0753\n",
      "Epoch 118/1000\n",
      "1000/1000 [==============================] - 127s 127ms/step - batch: 499.5000 - size: 1.0000 - loss: 0.1058 - rpn_class_loss: 0.0037 - rpn_bbox_loss: 0.0486 - mrcnn_class_loss: 0.0134 - mrcnn_bbox_loss: 0.0104 - mrcnn_mask_loss: 0.0297 - val_loss: 0.5257 - val_rpn_class_loss: 0.1297 - val_rpn_bbox_loss: 0.3660 - val_mrcnn_class_loss: 0.0035 - val_mrcnn_bbox_loss: 0.0085 - val_mrcnn_mask_loss: 0.0181\n",
      "Epoch 119/1000\n",
      "1000/1000 [==============================] - 127s 127ms/step - batch: 499.5000 - size: 1.0000 - loss: 0.0869 - rpn_class_loss: 0.0029 - rpn_bbox_loss: 0.0426 - mrcnn_class_loss: 0.0079 - mrcnn_bbox_loss: 0.0082 - mrcnn_mask_loss: 0.0253 - val_loss: 0.4133 - val_rpn_class_loss: 0.0313 - val_rpn_bbox_loss: 0.1875 - val_mrcnn_class_loss: 0.0098 - val_mrcnn_bbox_loss: 0.1130 - val_mrcnn_mask_loss: 0.0717\n",
      "Epoch 120/1000\n",
      "1000/1000 [==============================] - 128s 128ms/step - batch: 499.5000 - size: 1.0000 - loss: 0.0841 - rpn_class_loss: 0.0025 - rpn_bbox_loss: 0.0322 - mrcnn_class_loss: 0.0122 - mrcnn_bbox_loss: 0.0085 - mrcnn_mask_loss: 0.0287 - val_loss: 0.4201 - val_rpn_class_loss: 0.0374 - val_rpn_bbox_loss: 0.2182 - val_mrcnn_class_loss: 0.0162 - val_mrcnn_bbox_loss: 0.0448 - val_mrcnn_mask_loss: 0.1034\n",
      "Epoch 121/1000\n",
      " 353/1000 [=========>....................] - ETA: 1:17 - batch: 176.0000 - size: 1.0000 - loss: 0.1011 - rpn_class_loss: 0.0027 - rpn_bbox_loss: 0.0375 - mrcnn_class_loss: 0.0141 - mrcnn_bbox_loss: 0.0129 - mrcnn_mask_loss: 0.0339"
     ]
    }
   ],
   "source": [
    "\n",
    "model.train(dataset_train, dataset_val,\n",
    "        learning_rate=config.LEARNING_RATE,\n",
    "        epochs=1000,\n",
    "        layers='all')"
   ]
  },
  {
   "cell_type": "code",
   "execution_count": null,
   "metadata": {},
   "outputs": [],
   "source": []
  }
 ],
 "metadata": {
  "kernelspec": {
   "display_name": "tensorflow2",
   "language": "python",
   "name": "tensorflow2"
  },
  "language_info": {
   "codemirror_mode": {
    "name": "ipython",
    "version": 3
   },
   "file_extension": ".py",
   "mimetype": "text/x-python",
   "name": "python",
   "nbconvert_exporter": "python",
   "pygments_lexer": "ipython3",
   "version": "3.7.10"
  }
 },
 "nbformat": 4,
 "nbformat_minor": 2
}
